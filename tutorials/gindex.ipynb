{
 "cells": [
  {
   "attachments": {},
   "cell_type": "markdown",
   "id": "3dcc4a0e-d0f5-462e-87c3-2f5849136ec0",
   "metadata": {},
   "source": [
    "<h1 align=\"center\"><img align=\"center\" src=\"data/geoparse_logo.png\" alt=\"GeoParse Logo\" width=\"200\"/></h1>\n",
    "<h1 align=\"center\">GeoParse</h1>\n",
    "<h3 align=\"center\">It's all about points <img src=\"data/point.png\" width=\"10\"/> lines <img src=\"data/line.png\" width=\"40\"/> and polygons <img src=\"data/polygon.png\" width=\"30\"/></h3>\n",
    "\n",
    "\n",
    "\n",
    "#### [Website](http://geoparse.io)\n",
    "***\n",
    "\n",
    "# Geospatial Index\n",
    "\n",
    "[![Binder](https://mybinder.org/badge_logo.svg)](https://mybinder.org/v2/gh/geoparse/geoparse/main?labpath=tutorials%2F00_visualization.ipynb)\n",
    "\n",
    "This notebook demonstrates how to convert coordinates into spatial indexes (H3, S2, and Geohash) and back into coordinates.\n",
    "***"
   ]
  },
  {
   "cell_type": "code",
   "execution_count": null,
   "id": "eb3978c4-7306-4d34-b4d9-f812b61ba89b",
   "metadata": {},
   "outputs": [],
   "source": [
    "# Add parent directory to sys.path\n",
    "import sys\n",
    "import os\n",
    "sys.path.append(os.path.abspath(\"..\"))"
   ]
  },
  {
   "cell_type": "code",
   "execution_count": null,
   "id": "97324c83-4951-4cfb-af81-4ef361a54f04",
   "metadata": {},
   "outputs": [],
   "source": [
    "import pandas as pd\n",
    "from geoparse.gindex import SpatialIndexer\n",
    "from geoparse.karta import plp\n",
    "\n",
    "import warnings\n",
    "warnings.filterwarnings(\"ignore\")"
   ]
  },
  {
   "cell_type": "code",
   "execution_count": null,
   "id": "65256acf-a6e8-482e-9e4c-360f8acb0940",
   "metadata": {},
   "outputs": [],
   "source": [
    "# Create an instance of SpatialIndexer\n",
    "indexer = SpatialIndexer()"
   ]
  },
  {
   "cell_type": "markdown",
   "id": "186c6863-3894-46af-ae19-a4a48cd96df7",
   "metadata": {},
   "source": [
    "## Read from CSV file"
   ]
  },
  {
   "cell_type": "code",
   "execution_count": null,
   "id": "7ba9e4ba-fa66-4441-a83d-1f51134359b4",
   "metadata": {},
   "outputs": [],
   "source": [
    "df = pd.read_csv(\"data/great_britain_road_casualties-2023.csv\")\n",
    "df.head()"
   ]
  },
  {
   "cell_type": "code",
   "execution_count": null,
   "id": "747a476e-dbc6-4f35-8d92-75f95953bbc1",
   "metadata": {},
   "outputs": [],
   "source": [
    "len(df)"
   ]
  },
  {
   "cell_type": "code",
   "execution_count": null,
   "id": "b99d19ea-6849-475d-904d-ef6374e291f9",
   "metadata": {},
   "outputs": [],
   "source": [
    "plp(df)"
   ]
  },
  {
   "cell_type": "code",
   "execution_count": null,
   "id": "7a4e6810-b0e8-44d3-87d0-34672fb2a92f",
   "metadata": {},
   "outputs": [],
   "source": [
    "%%time\n",
    "df[\"h3\"] = indexer.ppointcell(df.latitude, df.longitude, cell_type=\"h3\", res=15)\n",
    "df.head()"
   ]
  },
  {
   "cell_type": "code",
   "execution_count": null,
   "id": "388da783-2522-40b8-ad30-c0e9069a757b",
   "metadata": {},
   "outputs": [],
   "source": [
    "%%time\n",
    "df[[\"lat\", \"lon\"]] = indexer.pcellpoint(df.h3, cell_type=\"h3\")\n",
    "df.head()"
   ]
  },
  {
   "cell_type": "code",
   "execution_count": null,
   "id": "0d1076a4-aa8a-4c9e-bab9-3c844d2356b7",
   "metadata": {},
   "outputs": [],
   "source": [
    "max(abs(df.latitude - df.lat)), max(abs(df.longitude - df.lon))"
   ]
  },
  {
   "cell_type": "code",
   "execution_count": null,
   "id": "236473f8-7783-4e17-9f77-37e46768eeaf",
   "metadata": {},
   "outputs": [],
   "source": []
  },
  {
   "cell_type": "code",
   "execution_count": null,
   "id": "bda661d5-47d9-4824-bda1-4cd476ba6be5",
   "metadata": {},
   "outputs": [],
   "source": []
  },
  {
   "cell_type": "code",
   "execution_count": null,
   "id": "5a870613-28db-4796-9f98-f8250f90d9be",
   "metadata": {},
   "outputs": [],
   "source": [
    "%%time\n",
    "df[\"s2\"] = indexer.ppointcell(df.latitude, df.longitude, cell_type=\"s2\", res=30)\n",
    "df.head()"
   ]
  },
  {
   "cell_type": "code",
   "execution_count": null,
   "id": "4c5387d4-35c7-4b18-87c0-83ca0fcb549d",
   "metadata": {},
   "outputs": [],
   "source": [
    "%%time\n",
    "df[[\"lat\", \"lon\"]] = indexer.pcellpoint(df.s2, cell_type=\"s2\")\n",
    "df.head()"
   ]
  },
  {
   "cell_type": "code",
   "execution_count": null,
   "id": "011dcfb2-5688-470c-90b9-5de57fe84f6b",
   "metadata": {},
   "outputs": [],
   "source": [
    "max(abs(df.latitude - df.lat)), max(abs(df.longitude - df.lon))"
   ]
  },
  {
   "cell_type": "code",
   "execution_count": null,
   "id": "94a530eb-8ea1-4809-9720-8314e1db7680",
   "metadata": {},
   "outputs": [],
   "source": []
  },
  {
   "cell_type": "code",
   "execution_count": null,
   "id": "09d543e5-dd3d-48c0-8f6f-0771ec14c1e9",
   "metadata": {},
   "outputs": [],
   "source": []
  },
  {
   "cell_type": "code",
   "execution_count": null,
   "id": "930687f0-b55b-45c6-8022-88307079b3cf",
   "metadata": {},
   "outputs": [],
   "source": [
    "%%time\n",
    "df[\"geohash\"] = indexer.ppointcell(df.latitude, df.longitude, cell_type=\"geohash\", res=10)\n",
    "df.head()"
   ]
  },
  {
   "cell_type": "code",
   "execution_count": null,
   "id": "a0a8775c-a69e-434b-a8e3-72d2fc3fab25",
   "metadata": {},
   "outputs": [],
   "source": [
    "%%time\n",
    "df[[\"lat\", \"lon\"]] = indexer.pcellpoint(df.geohash, cell_type=\"geohash\")\n",
    "df.head()"
   ]
  },
  {
   "cell_type": "code",
   "execution_count": null,
   "id": "35dde717-c3ab-4df9-b57f-fdf07aa72135",
   "metadata": {},
   "outputs": [],
   "source": [
    "max(abs(df.latitude - df.lat)), max(abs(df.longitude - df.lon))"
   ]
  },
  {
   "cell_type": "code",
   "execution_count": null,
   "id": "a0f842c2-30bd-4ff4-8f2a-584c208360c8",
   "metadata": {},
   "outputs": [],
   "source": []
  },
  {
   "cell_type": "code",
   "execution_count": null,
   "id": "f3ba111c-9279-4aa8-8e3d-b323223c5c2f",
   "metadata": {},
   "outputs": [],
   "source": []
  }
 ],
 "metadata": {
  "kernelspec": {
   "display_name": "Python 3 (ipykernel)",
   "language": "python",
   "name": "python3"
  },
  "language_info": {
   "codemirror_mode": {
    "name": "ipython",
    "version": 3
   },
   "file_extension": ".py",
   "mimetype": "text/x-python",
   "name": "python",
   "nbconvert_exporter": "python",
   "pygments_lexer": "ipython3",
   "version": "3.12.8"
  }
 },
 "nbformat": 4,
 "nbformat_minor": 5
}
