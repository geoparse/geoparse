{
 "cells": [
  {
   "attachments": {},
   "cell_type": "markdown",
   "id": "7b699c0a-0c20-45ee-9042-ebed104af979",
   "metadata": {},
   "source": [
    "<h1 align=\"center\"><img align=\"center\" src=\"https://geoparse.io/graphics/geoparse_logo.png\" alt=\"GeoParse Logo\" width=\"200\"/></h1>\n",
    "<h1 align=\"center\">GeoParse</h1>\n",
    "<h3 align=\"center\">It's all about points <img src=\"https://geoparse.io/graphics/point.png\" width=\"10\"/> lines <img src=\"https://geoparse.io/graphics/line.png\" width=\"40\"/> and polygons <img src=\"https://geoparse.io/graphics/polygon.png\" width=\"30\"/></h3>\n",
    "\n",
    "\n",
    "#### [Website](http://geoparse.io) \n",
    "***\n",
    "\n",
    "# Visualization\n",
    "\n",
    "[![Binder](https://mybinder.org/badge_logo.svg)](https://mybinder.org/v2/gh/geoparse/geoparse/main?labpath=tutorials%2F00_visualization.ipynb)\n",
    "\n",
    "This notebook demonstrates how to display:\n",
    "\n",
    "* Points, lines, and polygons.\n",
    "* Their heatmaps and clusters.\n",
    "* Their coverage areas using geospatial cells such as H3, S2, and Geohash.\n",
    "* Geospatial cells on a map based on their indexes.\n",
    "* OSM roads and buildings using their IDs.\n",
    "***"
   ]
  },
  {
   "cell_type": "code",
   "execution_count": null,
   "id": "1fc5ae67-9c71-4c77-b654-cdb1d5f0d801",
   "metadata": {},
   "outputs": [],
   "source": [
    "import os\n",
    "import sys\n",
    "\n",
    "sys.path.append(os.path.abspath(\"../geoparse/\"))\n",
    "import warnings\n",
    "\n",
    "import geopandas as gpd\n",
    "import pandas as pd\n",
    "\n",
    "from geoparse import plp\n",
    "\n",
    "warnings.filterwarnings(\"ignore\")"
   ]
  },
  {
   "cell_type": "markdown",
   "id": "52f687d0-cf82-4c34-8cdf-c72ab0f4cc60",
   "metadata": {},
   "source": [
    "## Read from Various File Formats\n",
    "\n",
    "GeoParse creates interactive maps with multiple tile layers and supports data visualization from `CSV` and GIS formats like `Shapefile`, `GPKG`, `GeoJSON`, and `GeoParquet`. \n",
    "\n",
    "The `plp` (point, line, polygon) function in the `Karta` class (Swedish for \"map\") enables geometry visualization using either a pandas `DataFrame` or a GeoPandas `GeoDataFrame`. When given a `DataFrame`, `plp` automatically detects columns containing **lat** and **lon** (case-insensitive) to use as latitude and longitude for plotting points on the map.\n",
    "\n",
    "You can switch between different tile layers using the options in the top right corner of the map.\n",
    "\n",
    "Available Tile Layers:\n",
    "* **Light:** A clean, minimalistic basemap that highlights overlaid data.\n",
    "* **Dark:** A high-contrast, dark-themed map ideal for vibrant overlays and nighttime visualization.\n",
    "* **Outdoors:** Designed for outdoor activities, featuring trails, elevation contours, and natural landmarks.\n",
    "* **Satellite:** Displays high-resolution satellite imagery for real-world context and detailed analysis.\n",
    "* **OSM:** A versatile map powered by OpenStreetMap, displaying roads, buildings, and points of interest."
   ]
  },
  {
   "cell_type": "code",
   "execution_count": null,
   "id": "818b15a8-14ef-401f-b04c-c294ae81c1f9",
   "metadata": {},
   "outputs": [],
   "source": [
    "%%time\n",
    "df = pd.read_csv(\"https://geoparse.io/data/great_britain_road_casualties-2023.csv\")\n",
    "df.head()"
   ]
  },
  {
   "cell_type": "code",
   "execution_count": null,
   "id": "b99d19ea-6849-475d-904d-ef6374e291f9",
   "metadata": {},
   "outputs": [],
   "source": [
    "plp(df)"
   ]
  },
  {
   "cell_type": "code",
   "execution_count": null,
   "id": "a5cd859b-b418-4950-917c-c5abb2a7104d",
   "metadata": {},
   "outputs": [],
   "source": []
  },
  {
   "cell_type": "code",
   "execution_count": null,
   "id": "41cbe93b-b50d-4571-bc6b-a4f079c55e28",
   "metadata": {},
   "outputs": [],
   "source": [
    "plp(df, point_color=\"speed_limit\")"
   ]
  },
  {
   "cell_type": "code",
   "execution_count": null,
   "id": "248755db-b73d-4bca-bee6-b07403ef8e46",
   "metadata": {},
   "outputs": [],
   "source": []
  },
  {
   "cell_type": "code",
   "execution_count": null,
   "id": "990dd0a6-7565-4535-bdc9-4ad3d1fc9f91",
   "metadata": {},
   "outputs": [],
   "source": [
    "plp(df, point_color=\"speed_limit\", point_popup={\"Speed limit\": \"speed_limit\"})"
   ]
  },
  {
   "cell_type": "code",
   "execution_count": null,
   "id": "83495d29-585c-44f1-97b2-13d45172e287",
   "metadata": {},
   "outputs": [],
   "source": []
  },
  {
   "cell_type": "code",
   "execution_count": null,
   "id": "be65dc50-4ee4-4cca-bab0-1a5e8d99c685",
   "metadata": {},
   "outputs": [],
   "source": [
    "plp(df, heatmap=True)"
   ]
  },
  {
   "cell_type": "code",
   "execution_count": null,
   "id": "0b1a0dbb-02e7-4890-95f9-f4cda78f3a57",
   "metadata": {},
   "outputs": [],
   "source": []
  },
  {
   "cell_type": "code",
   "execution_count": null,
   "id": "3ad56d43-f4f1-49f2-99a5-c46cbbafa404",
   "metadata": {},
   "outputs": [],
   "source": [
    "plp(df, cluster=True)"
   ]
  },
  {
   "cell_type": "code",
   "execution_count": null,
   "id": "488860b9-1cb6-4506-8436-253b5bfb346c",
   "metadata": {},
   "outputs": [],
   "source": []
  },
  {
   "cell_type": "code",
   "execution_count": null,
   "id": "a5998ff1-4d76-45c7-b9ba-2e1f6e8bafc2",
   "metadata": {},
   "outputs": [],
   "source": [
    "plp(df, heatmap=True, cluster=True)"
   ]
  },
  {
   "cell_type": "markdown",
   "id": "4d5cf1b0-09c2-4bc7-aaf9-04875a4613ed",
   "metadata": {},
   "source": [
    "If no columns contain `lat` and `lon` keywords, or if more than two columns contain these keywords, you must explicitly specify the latitude and longitude using the `y` and `x` parameters, respectively, e.g., `plp(df, x=\"easting\", y=\"northing\")`. Note that `plp` assumes all data is in the [EPSG:4326](https://epsg.io/4326) projection. "
   ]
  },
  {
   "cell_type": "markdown",
   "id": "9f6e545d-84bf-4559-8073-a56b85ca4f56",
   "metadata": {},
   "source": [
    "For a `GeoDataFrame`, the `plp` function can render Shapely objects such as `Point`, `LineString`, `Polygon`, and `MultiPolygon`."
   ]
  },
  {
   "cell_type": "code",
   "execution_count": null,
   "id": "d12a40f2-10c0-4e76-8ee3-4068083ea856",
   "metadata": {},
   "outputs": [],
   "source": []
  },
  {
   "cell_type": "markdown",
   "id": "10b77688-b712-4472-8a40-5cd8b9de7792",
   "metadata": {},
   "source": [
    "## Read a Polygon from Geo File"
   ]
  },
  {
   "cell_type": "code",
   "execution_count": null,
   "id": "de77fd50-bdba-4351-9be1-94a6405a9661",
   "metadata": {},
   "outputs": [],
   "source": [
    "%%time\n",
    "gdf = gpd.read_file(\"https://geoparse.io/data/london.geojson\")\n",
    "gdf"
   ]
  },
  {
   "cell_type": "code",
   "execution_count": null,
   "id": "3dbadea9-734c-4524-af75-02c9169bed43",
   "metadata": {},
   "outputs": [],
   "source": [
    "plp(gdf)"
   ]
  },
  {
   "cell_type": "code",
   "execution_count": null,
   "id": "d2f538ff-cb87-4371-8482-ec234188a0a6",
   "metadata": {},
   "outputs": [],
   "source": [
    "plp(gdf, centroid=True)"
   ]
  },
  {
   "cell_type": "code",
   "execution_count": null,
   "id": "75d317f3-64b6-4967-983b-1f09187323f8",
   "metadata": {},
   "outputs": [],
   "source": [
    "plp(gdf, h3_res=6)"
   ]
  },
  {
   "cell_type": "code",
   "execution_count": null,
   "id": "c84204c7-727b-43d8-978f-0c7ea7ba39fc",
   "metadata": {},
   "outputs": [],
   "source": [
    "plp(gdf, h3_res=10, compact=True)"
   ]
  },
  {
   "cell_type": "code",
   "execution_count": null,
   "id": "8ade1a69-6eeb-4da6-aa8f-0a6cf5362a6e",
   "metadata": {},
   "outputs": [],
   "source": [
    "plp(gdf, s2_res=12)"
   ]
  },
  {
   "cell_type": "code",
   "execution_count": null,
   "id": "db9fb967-11a3-4f04-9c2f-0a192a08de6e",
   "metadata": {},
   "outputs": [],
   "source": [
    "plp(gdf, s2_res=14, compact=True)"
   ]
  },
  {
   "cell_type": "code",
   "execution_count": null,
   "id": "5ebfea98-26a7-4774-97b0-a9de0c22574f",
   "metadata": {},
   "outputs": [],
   "source": [
    "plp(gdf, geohash_res=5)"
   ]
  },
  {
   "cell_type": "code",
   "execution_count": null,
   "id": "4baa0ee0-83fc-4aad-aed4-7f74137dff3a",
   "metadata": {},
   "outputs": [],
   "source": [
    "plp(gdf, geohash_res=7, compact=True)"
   ]
  },
  {
   "cell_type": "code",
   "execution_count": null,
   "id": "0de2de41-d172-4fd1-97da-1f4f0d67ac0c",
   "metadata": {},
   "outputs": [],
   "source": []
  },
  {
   "cell_type": "markdown",
   "id": "fdb05ed5-bc73-47b8-ba46-71696e53f105",
   "metadata": {},
   "source": [
    "# Mutiple data frames"
   ]
  },
  {
   "cell_type": "code",
   "execution_count": null,
   "id": "14772254-3ca4-4ff5-ac71-e01a573a5451",
   "metadata": {},
   "outputs": [],
   "source": [
    "plp([df, gdf], h3_res=6)"
   ]
  },
  {
   "cell_type": "markdown",
   "id": "420d2b2c-e772-4c91-9d7d-17b8667842a6",
   "metadata": {},
   "source": [
    "# Geospatial Cells"
   ]
  },
  {
   "cell_type": "code",
   "execution_count": null,
   "id": "0ed87351-ca4b-4a68-8325-298f0fc3c1fc",
   "metadata": {},
   "outputs": [],
   "source": [
    "import h3\n",
    "\n",
    "lat, lon = 41.87, -87.78\n",
    "\n",
    "# Get the H3 index at resolution 6 for the central point\n",
    "h3_index = h3.latlng_to_cell(lat, lon, 6)\n",
    "\n",
    "# Get adjacent H3 cells including the central cell itself\n",
    "h3_cells = h3.grid_disk(h3_index, 1)  # k_ring with radius 1 returns the central cell + neighbors\n",
    "h3_cells"
   ]
  },
  {
   "cell_type": "code",
   "execution_count": null,
   "id": "8a6cb084-41b7-4252-b21b-22343505459c",
   "metadata": {},
   "outputs": [],
   "source": [
    "plp(cells=list(h3_cells), cell_type=\"h3\")"
   ]
  },
  {
   "cell_type": "markdown",
   "id": "354b0a22-be3f-464b-a9bd-d141bd7a14cf",
   "metadata": {},
   "source": [
    "# OSM Ways"
   ]
  },
  {
   "cell_type": "code",
   "execution_count": null,
   "id": "e69d9bdf-2bf8-4c09-80c0-3c6f010b4ca8",
   "metadata": {},
   "outputs": [],
   "source": [
    "plp(osm_ways=[335265936, 53820456, 1117218957], s2_res=20, compact=True)"
   ]
  },
  {
   "cell_type": "code",
   "execution_count": null,
   "id": "93757065-bb0a-447f-bdc5-c791b1db3cbe",
   "metadata": {},
   "outputs": [],
   "source": [
    "plp(osm_ways=[260909736, 54454413])"
   ]
  },
  {
   "cell_type": "code",
   "execution_count": null,
   "id": "f01df626-5d7a-4197-b77d-e8e361689247",
   "metadata": {},
   "outputs": [],
   "source": []
  }
 ],
 "metadata": {
  "kernelspec": {
   "display_name": "Python 3 (ipykernel)",
   "language": "python",
   "name": "python3"
  },
  "language_info": {
   "codemirror_mode": {
    "name": "ipython",
    "version": 3
   },
   "file_extension": ".py",
   "mimetype": "text/x-python",
   "name": "python",
   "nbconvert_exporter": "python",
   "pygments_lexer": "ipython3",
   "version": "3.12.9"
  }
 },
 "nbformat": 4,
 "nbformat_minor": 5
}
