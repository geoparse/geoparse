{
 "cells": [
  {
   "attachments": {},
   "cell_type": "markdown",
   "id": "7b699c0a-0c20-45ee-9042-ebed104af979",
   "metadata": {},
   "source": [
    "<h1 align=\"center\"><img align=\"center\" src=\"data/geoparse_logo.png\" alt=\"GeoParse Logo\" width=\"200\"/></h1>\n",
    "<h1 align=\"center\">GeoParse</h1>\n",
    "<h3 align=\"center\">It's all about points <img src=\"data/point.png\" width=\"10\"/> lines <img src=\"data/line.png\" width=\"40\"/> and polygons <img src=\"data/polygon.png\" width=\"30\"/></h3>\n",
    "\n",
    "\n",
    "#### [Website](http://geoparse.io) \n",
    "***\n",
    "\n",
    "# Visualization\n",
    "\n",
    "[![Binder](https://mybinder.org/badge_logo.svg)](https://mybinder.org/v2/gh/geoparse/geoparse/main?labpath=tutorials%2F00_visualization.ipynb)\n",
    "\n",
    "This notebook demonstrates how to display:\n",
    "\n",
    "* Points, lines, and polygons.\n",
    "* Their heatmaps and clusters.\n",
    "* Their coverage areas using geospatial cells such as H3, S2, and Geohash.\n",
    "* Geospatial cells on a map based on their indexes.\n",
    "* OSM roads and buildings using their IDs.\n",
    "***"
   ]
  },
  {
   "cell_type": "code",
   "execution_count": null,
   "id": "eb3978c4-7306-4d34-b4d9-f812b61ba89b",
   "metadata": {},
   "outputs": [],
   "source": [
    "# Add parent directory to sys.path\n",
    "import os\n",
    "import sys\n",
    "\n",
    "sys.path.append(os.path.abspath(\"..\"))"
   ]
  },
  {
   "cell_type": "code",
   "execution_count": null,
   "id": "b1b26222-3f0c-403f-9352-050daa645ada",
   "metadata": {},
   "outputs": [],
   "source": [
    "import warnings\n",
    "\n",
    "import geopandas as gpd\n",
    "import h3\n",
    "import pandas as pd\n",
    "\n",
    "from geoparse.karta import plp\n",
    "\n",
    "warnings.filterwarnings(\"ignore\")"
   ]
  },
  {
   "cell_type": "code",
   "execution_count": null,
   "id": "a6294de5-0fe6-449c-bdb6-9fb7fe6ea442",
   "metadata": {},
   "outputs": [],
   "source": [
    "#reload all changed modules every time before executing a new line\n",
    "%load_ext autoreload\n",
    "%autoreload 2"
   ]
  },
  {
   "cell_type": "markdown",
   "id": "186c6863-3894-46af-ae19-a4a48cd96df7",
   "metadata": {
    "jp-MarkdownHeadingCollapsed": true
   },
   "source": [
    "## Read from a CSV file"
   ]
  },
  {
   "cell_type": "code",
   "execution_count": null,
   "id": "7ba9e4ba-fa66-4441-a83d-1f51134359b4",
   "metadata": {},
   "outputs": [],
   "source": [
    "df = pd.read_csv(\"data/great_britain_road_casualties-2023.csv\")\n",
    "df.head()"
   ]
  },
  {
   "cell_type": "code",
   "execution_count": null,
   "id": "747a476e-dbc6-4f35-8d92-75f95953bbc1",
   "metadata": {},
   "outputs": [],
   "source": [
    "len(df)"
   ]
  },
  {
   "cell_type": "code",
   "execution_count": null,
   "id": "b99d19ea-6849-475d-904d-ef6374e291f9",
   "metadata": {},
   "outputs": [],
   "source": [
    "plp(df)"
   ]
  },
  {
   "cell_type": "code",
   "execution_count": null,
   "id": "be65dc50-4ee4-4cca-bab0-1a5e8d99c685",
   "metadata": {},
   "outputs": [],
   "source": [
    "plp(df, heatmap=True, cluster=True)"
   ]
  },
  {
   "cell_type": "code",
   "execution_count": null,
   "id": "41cbe93b-b50d-4571-bc6b-a4f079c55e28",
   "metadata": {},
   "outputs": [],
   "source": [
    "plp(df, point_color=\"speed_limit\", point_popup={\"Speed limit\": \"speed_limit\"})"
   ]
  },
  {
   "cell_type": "code",
   "execution_count": null,
   "id": "d12a40f2-10c0-4e76-8ee3-4068083ea856",
   "metadata": {},
   "outputs": [],
   "source": []
  },
  {
   "cell_type": "markdown",
   "id": "b2302dc5-fad1-40ab-8369-4e46a3f57773",
   "metadata": {},
   "source": [
    "# Read from Geospatial Files"
   ]
  },
  {
   "cell_type": "code",
   "execution_count": null,
   "id": "6a05870b-6910-4b5c-9cbd-cb85e83b6943",
   "metadata": {},
   "outputs": [],
   "source": [
    "road_gdf = gpd.read_parquet(\"data/luxembourg_roads.parquet\")\n",
    "road_gdf.head()"
   ]
  },
  {
   "cell_type": "code",
   "execution_count": null,
   "id": "b08b2336-e8fd-49d5-aad6-da8886e7d519",
   "metadata": {},
   "outputs": [],
   "source": [
    "len(road_gdf)"
   ]
  },
  {
   "cell_type": "code",
   "execution_count": null,
   "id": "7808b89c-07b1-4d4e-8abb-f3c620bd1b28",
   "metadata": {},
   "outputs": [],
   "source": [
    "road_gdf.highway.value_counts()"
   ]
  },
  {
   "cell_type": "code",
   "execution_count": null,
   "id": "a47aa31d-5432-4e96-9948-720018bb7468",
   "metadata": {},
   "outputs": [],
   "source": [
    "plp(road_gdf[road_gdf.highway=='primary'], line_color=\"gold\", line_weight=1)"
   ]
  },
  {
   "cell_type": "code",
   "execution_count": null,
   "id": "f3f8b408-5ef3-46e6-99d6-a4ab144c7444",
   "metadata": {},
   "outputs": [],
   "source": []
  },
  {
   "cell_type": "code",
   "execution_count": null,
   "id": "b66dd8f4-757a-43c7-bfcd-7e7363911965",
   "metadata": {},
   "outputs": [],
   "source": []
  },
  {
   "cell_type": "code",
   "execution_count": null,
   "id": "d2f3ce13-5496-4f2b-a5c0-047df05b93dd",
   "metadata": {},
   "outputs": [],
   "source": [
    "border_gdf = gpd.read_file(\"data/luxembourg_border.geojson\")\n",
    "border_gdf"
   ]
  },
  {
   "cell_type": "code",
   "execution_count": null,
   "id": "3dbadea9-734c-4524-af75-02c9169bed43",
   "metadata": {},
   "outputs": [],
   "source": [
    "plp(border_gdf)"
   ]
  },
  {
   "cell_type": "code",
   "execution_count": null,
   "id": "d2f538ff-cb87-4371-8482-ec234188a0a6",
   "metadata": {},
   "outputs": [],
   "source": [
    "plp(border_gdf, centroid=True)"
   ]
  },
  {
   "cell_type": "code",
   "execution_count": null,
   "id": "df37098b-8d77-4de9-8c14-d2f4a7c76171",
   "metadata": {},
   "outputs": [],
   "source": [
    "plp(border_gdf, h3_res=6)"
   ]
  },
  {
   "cell_type": "code",
   "execution_count": null,
   "id": "75d317f3-64b6-4967-983b-1f09187323f8",
   "metadata": {},
   "outputs": [],
   "source": [
    "plp(border_gdf, h3_res=8, compact=True)"
   ]
  },
  {
   "cell_type": "code",
   "execution_count": null,
   "id": "8ade1a69-6eeb-4da6-aa8f-0a6cf5362a6e",
   "metadata": {},
   "outputs": [],
   "source": [
    "plp(border_gdf, s2_res=10)"
   ]
  },
  {
   "cell_type": "code",
   "execution_count": null,
   "id": "db9fb967-11a3-4f04-9c2f-0a192a08de6e",
   "metadata": {},
   "outputs": [],
   "source": [
    "plp(border_gdf, s2_res=14, compact=True)"
   ]
  },
  {
   "cell_type": "code",
   "execution_count": null,
   "id": "5ebfea98-26a7-4774-97b0-a9de0c22574f",
   "metadata": {},
   "outputs": [],
   "source": [
    "plp(border_gdf, geohash_res=5)"
   ]
  },
  {
   "cell_type": "code",
   "execution_count": null,
   "id": "4baa0ee0-83fc-4aad-aed4-7f74137dff3a",
   "metadata": {},
   "outputs": [],
   "source": [
    "plp(border_gdf, geohash_res=6, compact=True)"
   ]
  },
  {
   "cell_type": "code",
   "execution_count": null,
   "id": "c1f45df5-03ae-448c-88d6-cfb10a524da4",
   "metadata": {},
   "outputs": [],
   "source": [
    "plp(border_gdf, h3_res=8, s2_res=14, geohash_res=6, compact=True)"
   ]
  },
  {
   "cell_type": "code",
   "execution_count": null,
   "id": "db926c53-19c4-471b-89f1-faa4b7730312",
   "metadata": {},
   "outputs": [],
   "source": [
    "plp(border_gdf, h3_res=6, s2_res=10, geohash_res=5)"
   ]
  },
  {
   "cell_type": "markdown",
   "id": "fdb05ed5-bc73-47b8-ba46-71696e53f105",
   "metadata": {},
   "source": [
    "# Mutiple DataFrames"
   ]
  },
  {
   "cell_type": "code",
   "execution_count": null,
   "id": "0de2de41-d172-4fd1-97da-1f4f0d67ac0c",
   "metadata": {},
   "outputs": [],
   "source": [
    "plp([border_gdf, road_gdf[road_gdf.highway=='primary']], line_color=\"gold\", line_weight=1)"
   ]
  },
  {
   "cell_type": "markdown",
   "id": "420d2b2c-e772-4c91-9d7d-17b8667842a6",
   "metadata": {},
   "source": [
    "# Geospatial Cells"
   ]
  },
  {
   "cell_type": "code",
   "execution_count": null,
   "id": "0ed87351-ca4b-4a68-8325-298f0fc3c1fc",
   "metadata": {},
   "outputs": [],
   "source": [
    "lat, lon = 41.87, -87.78\n",
    "\n",
    "# Get the H3 index at resolution 6 for the central point\n",
    "h3_index = h3.latlng_to_cell(lat, lon, 6)\n",
    "\n",
    "# Get adjacent H3 cells including the central cell itself\n",
    "h3_cells = h3.grid_disk(h3_index, 1)  # k_ring with radius 1 returns the central cell + neighbors\n",
    "h3_cells"
   ]
  },
  {
   "cell_type": "code",
   "execution_count": null,
   "id": "8a6cb084-41b7-4252-b21b-22343505459c",
   "metadata": {},
   "outputs": [],
   "source": [
    "plp(cells=list(h3_cells), cell_type=\"h3\")"
   ]
  },
  {
   "cell_type": "markdown",
   "id": "354b0a22-be3f-464b-a9bd-d141bd7a14cf",
   "metadata": {},
   "source": [
    "# OSM Ways"
   ]
  },
  {
   "cell_type": "code",
   "execution_count": null,
   "id": "e69d9bdf-2bf8-4c09-80c0-3c6f010b4ca8",
   "metadata": {},
   "outputs": [],
   "source": [
    "plp(osm_ways=[335265936])"
   ]
  },
  {
   "cell_type": "code",
   "execution_count": null,
   "id": "3fc45bee-1663-47a4-bb02-5d8190833d1f",
   "metadata": {},
   "outputs": [],
   "source": [
    "plp(osm_ways=[335265936, 53820456, 1117218957], s2_res=19, compact=True)"
   ]
  },
  {
   "cell_type": "code",
   "execution_count": null,
   "id": "93757065-bb0a-447f-bdc5-c791b1db3cbe",
   "metadata": {},
   "outputs": [],
   "source": [
    "plp(osm_ways=[893074361, 666201240])"
   ]
  },
  {
   "cell_type": "code",
   "execution_count": null,
   "id": "f01df626-5d7a-4197-b77d-e8e361689247",
   "metadata": {},
   "outputs": [],
   "source": []
  }
 ],
 "metadata": {
  "kernelspec": {
   "display_name": "Python 3 (ipykernel)",
   "language": "python",
   "name": "python3"
  },
  "language_info": {
   "codemirror_mode": {
    "name": "ipython",
    "version": 3
   },
   "file_extension": ".py",
   "mimetype": "text/x-python",
   "name": "python",
   "nbconvert_exporter": "python",
   "pygments_lexer": "ipython3",
   "version": "3.12.8"
  }
 },
 "nbformat": 4,
 "nbformat_minor": 5
}
