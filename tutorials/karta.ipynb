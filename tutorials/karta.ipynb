{
 "cells": [
  {
   "attachments": {},
   "cell_type": "markdown",
   "id": "7b699c0a-0c20-45ee-9042-ebed104af979",
   "metadata": {},
   "source": [
    "<h1 align=\"center\"><img align=\"center\" src=\"data/geoparse_logo.png\" alt=\"GeoParse Logo\" width=\"200\"/></h1>\n",
    "<h1 align=\"center\">GeoParse</h1>\n",
    "<h3 align=\"center\">It's all about points <img src=\"data/point.png\" width=\"10\"/> lines <img src=\"data/line.png\" width=\"40\"/> and polygons <img src=\"data/polygon.png\" width=\"30\"/></h3>\n",
    "\n",
    "\n",
    "#### [Website](http://geoparse.io) \n",
    "***\n",
    "\n",
    "# Visualization\n",
    "\n",
    "[![Binder](https://mybinder.org/badge_logo.svg)](https://mybinder.org/v2/gh/geoparse/geoparse/main?labpath=tutorials%2F00_visualization.ipynb)\n",
    "\n",
    "This notebook demonstrates how to display:\n",
    "\n",
    "* Points, lines, and polygons.\n",
    "* Their heatmaps and clusters.\n",
    "* Their coverage areas using geospatial cells such as H3, S2, and Geohash.\n",
    "* Geospatial cells on a map based on their indexes.\n",
    "* OSM roads and buildings using their IDs.\n",
    "***"
   ]
  },
  {
   "cell_type": "code",
   "execution_count": 1,
   "id": "eb3978c4-7306-4d34-b4d9-f812b61ba89b",
   "metadata": {},
   "outputs": [],
   "source": [
    "# Add parent directory to sys.path\n",
    "import os\n",
    "import sys\n",
    "\n",
    "sys.path.append(os.path.abspath(\"..\"))"
   ]
  },
  {
   "cell_type": "code",
   "execution_count": 2,
   "id": "b1b26222-3f0c-403f-9352-050daa645ada",
   "metadata": {},
   "outputs": [],
   "source": [
    "import warnings\n",
    "\n",
    "import geopandas as gpd\n",
    "import h3\n",
    "import pandas as pd\n",
    "\n",
    "from geoparse.karta import plp\n",
    "\n",
    "warnings.filterwarnings(\"ignore\")"
   ]
  },
  {
   "cell_type": "code",
   "execution_count": 3,
   "id": "a6294de5-0fe6-449c-bdb6-9fb7fe6ea442",
   "metadata": {},
   "outputs": [],
   "source": [
    "# reload all changed modules every time before executing a new line\n",
    "%load_ext autoreload\n",
    "%autoreload 2"
   ]
  },
  {
   "cell_type": "markdown",
   "id": "186c6863-3894-46af-ae19-a4a48cd96df7",
   "metadata": {},
   "source": [
    "## Read from a CSV file"
   ]
  },
  {
   "cell_type": "code",
   "execution_count": 4,
   "id": "7ba9e4ba-fa66-4441-a83d-1f51134359b4",
   "metadata": {},
   "outputs": [
    {
     "data": {
      "text/html": [
       "<div>\n",
       "<style scoped>\n",
       "    .dataframe tbody tr th:only-of-type {\n",
       "        vertical-align: middle;\n",
       "    }\n",
       "\n",
       "    .dataframe tbody tr th {\n",
       "        vertical-align: top;\n",
       "    }\n",
       "\n",
       "    .dataframe thead th {\n",
       "        text-align: right;\n",
       "    }\n",
       "</style>\n",
       "<table border=\"1\" class=\"dataframe\">\n",
       "  <thead>\n",
       "    <tr style=\"text-align: right;\">\n",
       "      <th></th>\n",
       "      <th>date</th>\n",
       "      <th>time</th>\n",
       "      <th>latitude</th>\n",
       "      <th>longitude</th>\n",
       "      <th>number_of_vehicles</th>\n",
       "      <th>number_of_casualties</th>\n",
       "      <th>speed_limit</th>\n",
       "    </tr>\n",
       "  </thead>\n",
       "  <tbody>\n",
       "    <tr>\n",
       "      <th>0</th>\n",
       "      <td>03/01/2023</td>\n",
       "      <td>19:12</td>\n",
       "      <td>51.356551</td>\n",
       "      <td>-0.097759</td>\n",
       "      <td>1</td>\n",
       "      <td>1</td>\n",
       "      <td>30</td>\n",
       "    </tr>\n",
       "    <tr>\n",
       "      <th>1</th>\n",
       "      <td>07/01/2023</td>\n",
       "      <td>10:05</td>\n",
       "      <td>51.593701</td>\n",
       "      <td>0.022379</td>\n",
       "      <td>1</td>\n",
       "      <td>1</td>\n",
       "      <td>30</td>\n",
       "    </tr>\n",
       "    <tr>\n",
       "      <th>2</th>\n",
       "      <td>14/01/2023</td>\n",
       "      <td>16:15</td>\n",
       "      <td>51.466689</td>\n",
       "      <td>-0.011289</td>\n",
       "      <td>1</td>\n",
       "      <td>1</td>\n",
       "      <td>20</td>\n",
       "    </tr>\n",
       "    <tr>\n",
       "      <th>3</th>\n",
       "      <td>15/01/2023</td>\n",
       "      <td>19:51</td>\n",
       "      <td>51.671577</td>\n",
       "      <td>-0.037543</td>\n",
       "      <td>1</td>\n",
       "      <td>1</td>\n",
       "      <td>30</td>\n",
       "    </tr>\n",
       "    <tr>\n",
       "      <th>4</th>\n",
       "      <td>16/01/2023</td>\n",
       "      <td>19:22</td>\n",
       "      <td>51.447944</td>\n",
       "      <td>0.117279</td>\n",
       "      <td>2</td>\n",
       "      <td>1</td>\n",
       "      <td>30</td>\n",
       "    </tr>\n",
       "  </tbody>\n",
       "</table>\n",
       "</div>"
      ],
      "text/plain": [
       "         date   time   latitude  longitude  number_of_vehicles  \\\n",
       "0  03/01/2023  19:12  51.356551  -0.097759                   1   \n",
       "1  07/01/2023  10:05  51.593701   0.022379                   1   \n",
       "2  14/01/2023  16:15  51.466689  -0.011289                   1   \n",
       "3  15/01/2023  19:51  51.671577  -0.037543                   1   \n",
       "4  16/01/2023  19:22  51.447944   0.117279                   2   \n",
       "\n",
       "   number_of_casualties  speed_limit  \n",
       "0                     1           30  \n",
       "1                     1           30  \n",
       "2                     1           20  \n",
       "3                     1           30  \n",
       "4                     1           30  "
      ]
     },
     "execution_count": 4,
     "metadata": {},
     "output_type": "execute_result"
    }
   ],
   "source": [
    "df = pd.read_csv(\"data/great_britain_road_casualties-2023.csv\")\n",
    "df.head()"
   ]
  },
  {
   "cell_type": "code",
   "execution_count": 5,
   "id": "747a476e-dbc6-4f35-8d92-75f95953bbc1",
   "metadata": {},
   "outputs": [
    {
     "data": {
      "text/plain": [
       "1522"
      ]
     },
     "execution_count": 5,
     "metadata": {},
     "output_type": "execute_result"
    }
   ],
   "source": [
    "len(df)"
   ]
  },
  {
   "cell_type": "code",
   "execution_count": 10,
   "id": "b99d19ea-6849-475d-904d-ef6374e291f9",
   "metadata": {},
   "outputs": [
    {
     "ename": "KeyError",
     "evalue": "None",
     "output_type": "error",
     "traceback": [
      "\u001b[0;31m---------------------------------------------------------------------------\u001b[0m",
      "\u001b[0;31mAttributeError\u001b[0m                            Traceback (most recent call last)",
      "\u001b[0;32m~/repo/geoparse/geoparse/karta.py\u001b[0m in \u001b[0;36m?\u001b[0;34m(row, karta, color, color_head, color_tail, opacity, radius, weight, popup_dict, x, y)\u001b[0m\n\u001b[1;32m    253\u001b[0m     \u001b[0;32mexcept\u001b[0m \u001b[0mException\u001b[0m\u001b[0;34m:\u001b[0m\u001b[0;34m\u001b[0m\u001b[0;34m\u001b[0m\u001b[0m\n\u001b[1;32m    254\u001b[0m         \u001b[0;31m# If geometry is not present, use x and y columns for location\u001b[0m\u001b[0;34m\u001b[0m\u001b[0;34m\u001b[0m\u001b[0m\n\u001b[0;32m--> 255\u001b[0;31m         \u001b[0mlocation\u001b[0m \u001b[0;34m=\u001b[0m \u001b[0;34m[\u001b[0m\u001b[0mrow\u001b[0m\u001b[0;34m[\u001b[0m\u001b[0my\u001b[0m\u001b[0;34m]\u001b[0m\u001b[0;34m,\u001b[0m \u001b[0mrow\u001b[0m\u001b[0;34m[\u001b[0m\u001b[0mx\u001b[0m\u001b[0;34m]\u001b[0m\u001b[0;34m]\u001b[0m  \u001b[0;31m# x, y: lon, lat column names in DataFrame\u001b[0m\u001b[0;34m\u001b[0m\u001b[0;34m\u001b[0m\u001b[0m\n\u001b[0m\u001b[1;32m    256\u001b[0m \u001b[0;34m\u001b[0m\u001b[0m\n",
      "\u001b[0;32m~/repo/geoparse/.venv/lib/python3.12/site-packages/pandas/core/generic.py\u001b[0m in \u001b[0;36m?\u001b[0;34m(self, name)\u001b[0m\n\u001b[1;32m   6297\u001b[0m         \u001b[0;34m)\u001b[0m\u001b[0;34m:\u001b[0m\u001b[0;34m\u001b[0m\u001b[0;34m\u001b[0m\u001b[0m\n\u001b[1;32m   6298\u001b[0m             \u001b[0;32mreturn\u001b[0m \u001b[0mself\u001b[0m\u001b[0;34m[\u001b[0m\u001b[0mname\u001b[0m\u001b[0;34m]\u001b[0m\u001b[0;34m\u001b[0m\u001b[0;34m\u001b[0m\u001b[0m\n\u001b[0;32m-> 6299\u001b[0;31m         \u001b[0;32mreturn\u001b[0m \u001b[0mobject\u001b[0m\u001b[0;34m.\u001b[0m\u001b[0m__getattribute__\u001b[0m\u001b[0;34m(\u001b[0m\u001b[0mself\u001b[0m\u001b[0;34m,\u001b[0m \u001b[0mname\u001b[0m\u001b[0;34m)\u001b[0m\u001b[0;34m\u001b[0m\u001b[0;34m\u001b[0m\u001b[0m\n\u001b[0m",
      "\u001b[0;31mAttributeError\u001b[0m: 'Series' object has no attribute 'geometry'",
      "\nDuring handling of the above exception, another exception occurred:\n",
      "\u001b[0;31mKeyError\u001b[0m                                  Traceback (most recent call last)",
      "File \u001b[0;32m~/repo/geoparse/.venv/lib/python3.12/site-packages/pandas/core/indexes/base.py:3805\u001b[0m, in \u001b[0;36mIndex.get_loc\u001b[0;34m(self, key)\u001b[0m\n\u001b[1;32m   3804\u001b[0m \u001b[38;5;28;01mtry\u001b[39;00m:\n\u001b[0;32m-> 3805\u001b[0m     \u001b[38;5;28;01mreturn\u001b[39;00m \u001b[38;5;28;43mself\u001b[39;49m\u001b[38;5;241;43m.\u001b[39;49m\u001b[43m_engine\u001b[49m\u001b[38;5;241;43m.\u001b[39;49m\u001b[43mget_loc\u001b[49m\u001b[43m(\u001b[49m\u001b[43mcasted_key\u001b[49m\u001b[43m)\u001b[49m\n\u001b[1;32m   3806\u001b[0m \u001b[38;5;28;01mexcept\u001b[39;00m \u001b[38;5;167;01mKeyError\u001b[39;00m \u001b[38;5;28;01mas\u001b[39;00m err:\n",
      "File \u001b[0;32mindex.pyx:167\u001b[0m, in \u001b[0;36mpandas._libs.index.IndexEngine.get_loc\u001b[0;34m()\u001b[0m\n",
      "File \u001b[0;32mindex.pyx:196\u001b[0m, in \u001b[0;36mpandas._libs.index.IndexEngine.get_loc\u001b[0;34m()\u001b[0m\n",
      "File \u001b[0;32mpandas/_libs/hashtable_class_helper.pxi:7081\u001b[0m, in \u001b[0;36mpandas._libs.hashtable.PyObjectHashTable.get_item\u001b[0;34m()\u001b[0m\n",
      "File \u001b[0;32mpandas/_libs/hashtable_class_helper.pxi:7089\u001b[0m, in \u001b[0;36mpandas._libs.hashtable.PyObjectHashTable.get_item\u001b[0;34m()\u001b[0m\n",
      "\u001b[0;31mKeyError\u001b[0m: None",
      "\nThe above exception was the direct cause of the following exception:\n",
      "\u001b[0;31mKeyError\u001b[0m                                  Traceback (most recent call last)",
      "Cell \u001b[0;32mIn[10], line 1\u001b[0m\n\u001b[0;32m----> 1\u001b[0m \u001b[43mplp\u001b[49m\u001b[43m(\u001b[49m\u001b[43mdf\u001b[49m\u001b[43m,\u001b[49m\u001b[43m \u001b[49m\u001b[43my\u001b[49m\u001b[38;5;241;43m=\u001b[39;49m\u001b[38;5;124;43m'\u001b[39;49m\u001b[38;5;124;43mlatitude\u001b[39;49m\u001b[38;5;124;43m'\u001b[39;49m\u001b[43m,\u001b[49m\u001b[43m \u001b[49m\u001b[43mx\u001b[49m\u001b[38;5;241;43m=\u001b[39;49m\u001b[38;5;124;43m'\u001b[39;49m\u001b[38;5;124;43mlongitude\u001b[39;49m\u001b[38;5;124;43m'\u001b[39;49m\u001b[43m)\u001b[49m\n",
      "File \u001b[0;32m~/repo/geoparse/geoparse/karta.py:745\u001b[0m, in \u001b[0;36mplp\u001b[0;34m(gdf_list, x, y, cluster, heatmap, line, antpath, point_color, color_head, color_tail, point_opacity, point_radius, point_weight, point_popup, buffer_radius, ring_inner_radius, ring_outer_radius, line_color, line_opacity, line_weight, line_popup, centroid, fill_color, highlight_color, line_width, polygon_popup, geohash_res, s2_res, h3_res, geohash_inner, compact, cells, cell_type, osm_ways, url)\u001b[0m\n\u001b[1;32m    743\u001b[0m \u001b[38;5;66;03m# Create point layers and visualizations\u001b[39;00m\n\u001b[1;32m    744\u001b[0m group_point \u001b[38;5;241m=\u001b[39m folium\u001b[38;5;241m.\u001b[39mFeatureGroup(name\u001b[38;5;241m=\u001b[39m\u001b[38;5;124mf\u001b[39m\u001b[38;5;124m\"\u001b[39m\u001b[38;5;132;01m{\u001b[39;00mi\u001b[38;5;132;01m}\u001b[39;00m\u001b[38;5;124m- Point\u001b[39m\u001b[38;5;124m\"\u001b[39m)\n\u001b[0;32m--> 745\u001b[0m \u001b[43mgdf\u001b[49m\u001b[38;5;241;43m.\u001b[39;49m\u001b[43mapply\u001b[49m\u001b[43m(\u001b[49m\n\u001b[1;32m    746\u001b[0m \u001b[43m    \u001b[49m\u001b[43madd_point\u001b[49m\u001b[43m,\u001b[49m\n\u001b[1;32m    747\u001b[0m \u001b[43m    \u001b[49m\u001b[43mkarta\u001b[49m\u001b[38;5;241;43m=\u001b[39;49m\u001b[43mgroup_point\u001b[49m\u001b[43m,\u001b[49m\n\u001b[1;32m    748\u001b[0m \u001b[43m    \u001b[49m\u001b[43mcolor\u001b[49m\u001b[38;5;241;43m=\u001b[39;49m\u001b[43mpoint_color\u001b[49m\u001b[43m,\u001b[49m\n\u001b[1;32m    749\u001b[0m \u001b[43m    \u001b[49m\u001b[43mcolor_head\u001b[49m\u001b[38;5;241;43m=\u001b[39;49m\u001b[43mcolor_head\u001b[49m\u001b[43m,\u001b[49m\n\u001b[1;32m    750\u001b[0m \u001b[43m    \u001b[49m\u001b[43mcolor_tail\u001b[49m\u001b[38;5;241;43m=\u001b[39;49m\u001b[43mcolor_tail\u001b[49m\u001b[43m,\u001b[49m\n\u001b[1;32m    751\u001b[0m \u001b[43m    \u001b[49m\u001b[43mopacity\u001b[49m\u001b[38;5;241;43m=\u001b[39;49m\u001b[43mpoint_opacity\u001b[49m\u001b[43m,\u001b[49m\n\u001b[1;32m    752\u001b[0m \u001b[43m    \u001b[49m\u001b[43mradius\u001b[49m\u001b[38;5;241;43m=\u001b[39;49m\u001b[43mpoint_radius\u001b[49m\u001b[43m,\u001b[49m\n\u001b[1;32m    753\u001b[0m \u001b[43m    \u001b[49m\u001b[43mweight\u001b[49m\u001b[38;5;241;43m=\u001b[39;49m\u001b[43mpoint_weight\u001b[49m\u001b[43m,\u001b[49m\n\u001b[1;32m    754\u001b[0m \u001b[43m    \u001b[49m\u001b[43mpopup_dict\u001b[49m\u001b[38;5;241;43m=\u001b[39;49m\u001b[43mpoint_popup\u001b[49m\u001b[43m,\u001b[49m\n\u001b[1;32m    755\u001b[0m \u001b[43m    \u001b[49m\u001b[43mx\u001b[49m\u001b[38;5;241;43m=\u001b[39;49m\u001b[43mxx\u001b[49m\u001b[43m,\u001b[49m\n\u001b[1;32m    756\u001b[0m \u001b[43m    \u001b[49m\u001b[43my\u001b[49m\u001b[38;5;241;43m=\u001b[39;49m\u001b[43myy\u001b[49m\u001b[43m,\u001b[49m\n\u001b[1;32m    757\u001b[0m \u001b[43m    \u001b[49m\u001b[43maxis\u001b[49m\u001b[38;5;241;43m=\u001b[39;49m\u001b[38;5;241;43m1\u001b[39;49m\u001b[43m,\u001b[49m\n\u001b[1;32m    758\u001b[0m \u001b[43m\u001b[49m\u001b[43m)\u001b[49m\n\u001b[1;32m    759\u001b[0m group_point\u001b[38;5;241m.\u001b[39madd_to(karta)\n\u001b[1;32m    761\u001b[0m \u001b[38;5;66;03m# Add clustering, heatmap, line connections, and buffer/ring visualizations as specified\u001b[39;00m\n\u001b[1;32m    762\u001b[0m \n\u001b[1;32m    763\u001b[0m \u001b[38;5;66;03m# Create a clustering layer if `cluster=True`\u001b[39;00m\n",
      "File \u001b[0;32m~/repo/geoparse/.venv/lib/python3.12/site-packages/pandas/core/frame.py:10374\u001b[0m, in \u001b[0;36mDataFrame.apply\u001b[0;34m(self, func, axis, raw, result_type, args, by_row, engine, engine_kwargs, **kwargs)\u001b[0m\n\u001b[1;32m  10360\u001b[0m \u001b[38;5;28;01mfrom\u001b[39;00m\u001b[38;5;250m \u001b[39m\u001b[38;5;21;01mpandas\u001b[39;00m\u001b[38;5;21;01m.\u001b[39;00m\u001b[38;5;21;01mcore\u001b[39;00m\u001b[38;5;21;01m.\u001b[39;00m\u001b[38;5;21;01mapply\u001b[39;00m\u001b[38;5;250m \u001b[39m\u001b[38;5;28;01mimport\u001b[39;00m frame_apply\n\u001b[1;32m  10362\u001b[0m op \u001b[38;5;241m=\u001b[39m frame_apply(\n\u001b[1;32m  10363\u001b[0m     \u001b[38;5;28mself\u001b[39m,\n\u001b[1;32m  10364\u001b[0m     func\u001b[38;5;241m=\u001b[39mfunc,\n\u001b[0;32m   (...)\u001b[0m\n\u001b[1;32m  10372\u001b[0m     kwargs\u001b[38;5;241m=\u001b[39mkwargs,\n\u001b[1;32m  10373\u001b[0m )\n\u001b[0;32m> 10374\u001b[0m \u001b[38;5;28;01mreturn\u001b[39;00m \u001b[43mop\u001b[49m\u001b[38;5;241;43m.\u001b[39;49m\u001b[43mapply\u001b[49m\u001b[43m(\u001b[49m\u001b[43m)\u001b[49m\u001b[38;5;241m.\u001b[39m__finalize__(\u001b[38;5;28mself\u001b[39m, method\u001b[38;5;241m=\u001b[39m\u001b[38;5;124m\"\u001b[39m\u001b[38;5;124mapply\u001b[39m\u001b[38;5;124m\"\u001b[39m)\n",
      "File \u001b[0;32m~/repo/geoparse/.venv/lib/python3.12/site-packages/pandas/core/apply.py:916\u001b[0m, in \u001b[0;36mFrameApply.apply\u001b[0;34m(self)\u001b[0m\n\u001b[1;32m    913\u001b[0m \u001b[38;5;28;01melif\u001b[39;00m \u001b[38;5;28mself\u001b[39m\u001b[38;5;241m.\u001b[39mraw:\n\u001b[1;32m    914\u001b[0m     \u001b[38;5;28;01mreturn\u001b[39;00m \u001b[38;5;28mself\u001b[39m\u001b[38;5;241m.\u001b[39mapply_raw(engine\u001b[38;5;241m=\u001b[39m\u001b[38;5;28mself\u001b[39m\u001b[38;5;241m.\u001b[39mengine, engine_kwargs\u001b[38;5;241m=\u001b[39m\u001b[38;5;28mself\u001b[39m\u001b[38;5;241m.\u001b[39mengine_kwargs)\n\u001b[0;32m--> 916\u001b[0m \u001b[38;5;28;01mreturn\u001b[39;00m \u001b[38;5;28;43mself\u001b[39;49m\u001b[38;5;241;43m.\u001b[39;49m\u001b[43mapply_standard\u001b[49m\u001b[43m(\u001b[49m\u001b[43m)\u001b[49m\n",
      "File \u001b[0;32m~/repo/geoparse/.venv/lib/python3.12/site-packages/pandas/core/apply.py:1063\u001b[0m, in \u001b[0;36mFrameApply.apply_standard\u001b[0;34m(self)\u001b[0m\n\u001b[1;32m   1061\u001b[0m \u001b[38;5;28;01mdef\u001b[39;00m\u001b[38;5;250m \u001b[39m\u001b[38;5;21mapply_standard\u001b[39m(\u001b[38;5;28mself\u001b[39m):\n\u001b[1;32m   1062\u001b[0m     \u001b[38;5;28;01mif\u001b[39;00m \u001b[38;5;28mself\u001b[39m\u001b[38;5;241m.\u001b[39mengine \u001b[38;5;241m==\u001b[39m \u001b[38;5;124m\"\u001b[39m\u001b[38;5;124mpython\u001b[39m\u001b[38;5;124m\"\u001b[39m:\n\u001b[0;32m-> 1063\u001b[0m         results, res_index \u001b[38;5;241m=\u001b[39m \u001b[38;5;28;43mself\u001b[39;49m\u001b[38;5;241;43m.\u001b[39;49m\u001b[43mapply_series_generator\u001b[49m\u001b[43m(\u001b[49m\u001b[43m)\u001b[49m\n\u001b[1;32m   1064\u001b[0m     \u001b[38;5;28;01melse\u001b[39;00m:\n\u001b[1;32m   1065\u001b[0m         results, res_index \u001b[38;5;241m=\u001b[39m \u001b[38;5;28mself\u001b[39m\u001b[38;5;241m.\u001b[39mapply_series_numba()\n",
      "File \u001b[0;32m~/repo/geoparse/.venv/lib/python3.12/site-packages/pandas/core/apply.py:1081\u001b[0m, in \u001b[0;36mFrameApply.apply_series_generator\u001b[0;34m(self)\u001b[0m\n\u001b[1;32m   1078\u001b[0m \u001b[38;5;28;01mwith\u001b[39;00m option_context(\u001b[38;5;124m\"\u001b[39m\u001b[38;5;124mmode.chained_assignment\u001b[39m\u001b[38;5;124m\"\u001b[39m, \u001b[38;5;28;01mNone\u001b[39;00m):\n\u001b[1;32m   1079\u001b[0m     \u001b[38;5;28;01mfor\u001b[39;00m i, v \u001b[38;5;129;01min\u001b[39;00m \u001b[38;5;28menumerate\u001b[39m(series_gen):\n\u001b[1;32m   1080\u001b[0m         \u001b[38;5;66;03m# ignore SettingWithCopy here in case the user mutates\u001b[39;00m\n\u001b[0;32m-> 1081\u001b[0m         results[i] \u001b[38;5;241m=\u001b[39m \u001b[38;5;28;43mself\u001b[39;49m\u001b[38;5;241;43m.\u001b[39;49m\u001b[43mfunc\u001b[49m\u001b[43m(\u001b[49m\u001b[43mv\u001b[49m\u001b[43m,\u001b[49m\u001b[43m \u001b[49m\u001b[38;5;241;43m*\u001b[39;49m\u001b[38;5;28;43mself\u001b[39;49m\u001b[38;5;241;43m.\u001b[39;49m\u001b[43margs\u001b[49m\u001b[43m,\u001b[49m\u001b[43m \u001b[49m\u001b[38;5;241;43m*\u001b[39;49m\u001b[38;5;241;43m*\u001b[39;49m\u001b[38;5;28;43mself\u001b[39;49m\u001b[38;5;241;43m.\u001b[39;49m\u001b[43mkwargs\u001b[49m\u001b[43m)\u001b[49m\n\u001b[1;32m   1082\u001b[0m         \u001b[38;5;28;01mif\u001b[39;00m \u001b[38;5;28misinstance\u001b[39m(results[i], ABCSeries):\n\u001b[1;32m   1083\u001b[0m             \u001b[38;5;66;03m# If we have a view on v, we need to make a copy because\u001b[39;00m\n\u001b[1;32m   1084\u001b[0m             \u001b[38;5;66;03m#  series_generator will swap out the underlying data\u001b[39;00m\n\u001b[1;32m   1085\u001b[0m             results[i] \u001b[38;5;241m=\u001b[39m results[i]\u001b[38;5;241m.\u001b[39mcopy(deep\u001b[38;5;241m=\u001b[39m\u001b[38;5;28;01mFalse\u001b[39;00m)\n",
      "File \u001b[0;32m~/repo/geoparse/geoparse/karta.py:255\u001b[0m, in \u001b[0;36madd_point\u001b[0;34m(row, karta, color, color_head, color_tail, opacity, radius, weight, popup_dict, x, y)\u001b[0m\n\u001b[1;32m    252\u001b[0m     location \u001b[38;5;241m=\u001b[39m [row\u001b[38;5;241m.\u001b[39mgeometry\u001b[38;5;241m.\u001b[39my, row\u001b[38;5;241m.\u001b[39mgeometry\u001b[38;5;241m.\u001b[39mx]\n\u001b[1;32m    253\u001b[0m \u001b[38;5;28;01mexcept\u001b[39;00m \u001b[38;5;167;01mException\u001b[39;00m:\n\u001b[1;32m    254\u001b[0m     \u001b[38;5;66;03m# If geometry is not present, use x and y columns for location\u001b[39;00m\n\u001b[0;32m--> 255\u001b[0m     location \u001b[38;5;241m=\u001b[39m [\u001b[43mrow\u001b[49m\u001b[43m[\u001b[49m\u001b[43my\u001b[49m\u001b[43m]\u001b[49m, row[x]]  \u001b[38;5;66;03m# x, y: lon, lat column names in DataFrame\u001b[39;00m\n\u001b[1;32m    257\u001b[0m \u001b[38;5;28;01mif\u001b[39;00m \u001b[38;5;28many\u001b[39m(math\u001b[38;5;241m.\u001b[39misnan(item) \u001b[38;5;28;01mfor\u001b[39;00m item \u001b[38;5;129;01min\u001b[39;00m location):\n\u001b[1;32m    258\u001b[0m     \u001b[38;5;28;01mreturn\u001b[39;00m \u001b[38;5;241m0\u001b[39m\n",
      "File \u001b[0;32m~/repo/geoparse/.venv/lib/python3.12/site-packages/pandas/core/series.py:1121\u001b[0m, in \u001b[0;36mSeries.__getitem__\u001b[0;34m(self, key)\u001b[0m\n\u001b[1;32m   1118\u001b[0m     \u001b[38;5;28;01mreturn\u001b[39;00m \u001b[38;5;28mself\u001b[39m\u001b[38;5;241m.\u001b[39m_values[key]\n\u001b[1;32m   1120\u001b[0m \u001b[38;5;28;01melif\u001b[39;00m key_is_scalar:\n\u001b[0;32m-> 1121\u001b[0m     \u001b[38;5;28;01mreturn\u001b[39;00m \u001b[38;5;28;43mself\u001b[39;49m\u001b[38;5;241;43m.\u001b[39;49m\u001b[43m_get_value\u001b[49m\u001b[43m(\u001b[49m\u001b[43mkey\u001b[49m\u001b[43m)\u001b[49m\n\u001b[1;32m   1123\u001b[0m \u001b[38;5;66;03m# Convert generator to list before going through hashable part\u001b[39;00m\n\u001b[1;32m   1124\u001b[0m \u001b[38;5;66;03m# (We will iterate through the generator there to check for slices)\u001b[39;00m\n\u001b[1;32m   1125\u001b[0m \u001b[38;5;28;01mif\u001b[39;00m is_iterator(key):\n",
      "File \u001b[0;32m~/repo/geoparse/.venv/lib/python3.12/site-packages/pandas/core/series.py:1237\u001b[0m, in \u001b[0;36mSeries._get_value\u001b[0;34m(self, label, takeable)\u001b[0m\n\u001b[1;32m   1234\u001b[0m     \u001b[38;5;28;01mreturn\u001b[39;00m \u001b[38;5;28mself\u001b[39m\u001b[38;5;241m.\u001b[39m_values[label]\n\u001b[1;32m   1236\u001b[0m \u001b[38;5;66;03m# Similar to Index.get_value, but we do not fall back to positional\u001b[39;00m\n\u001b[0;32m-> 1237\u001b[0m loc \u001b[38;5;241m=\u001b[39m \u001b[38;5;28;43mself\u001b[39;49m\u001b[38;5;241;43m.\u001b[39;49m\u001b[43mindex\u001b[49m\u001b[38;5;241;43m.\u001b[39;49m\u001b[43mget_loc\u001b[49m\u001b[43m(\u001b[49m\u001b[43mlabel\u001b[49m\u001b[43m)\u001b[49m\n\u001b[1;32m   1239\u001b[0m \u001b[38;5;28;01mif\u001b[39;00m is_integer(loc):\n\u001b[1;32m   1240\u001b[0m     \u001b[38;5;28;01mreturn\u001b[39;00m \u001b[38;5;28mself\u001b[39m\u001b[38;5;241m.\u001b[39m_values[loc]\n",
      "File \u001b[0;32m~/repo/geoparse/.venv/lib/python3.12/site-packages/pandas/core/indexes/base.py:3812\u001b[0m, in \u001b[0;36mIndex.get_loc\u001b[0;34m(self, key)\u001b[0m\n\u001b[1;32m   3807\u001b[0m     \u001b[38;5;28;01mif\u001b[39;00m \u001b[38;5;28misinstance\u001b[39m(casted_key, \u001b[38;5;28mslice\u001b[39m) \u001b[38;5;129;01mor\u001b[39;00m (\n\u001b[1;32m   3808\u001b[0m         \u001b[38;5;28misinstance\u001b[39m(casted_key, abc\u001b[38;5;241m.\u001b[39mIterable)\n\u001b[1;32m   3809\u001b[0m         \u001b[38;5;129;01mand\u001b[39;00m \u001b[38;5;28many\u001b[39m(\u001b[38;5;28misinstance\u001b[39m(x, \u001b[38;5;28mslice\u001b[39m) \u001b[38;5;28;01mfor\u001b[39;00m x \u001b[38;5;129;01min\u001b[39;00m casted_key)\n\u001b[1;32m   3810\u001b[0m     ):\n\u001b[1;32m   3811\u001b[0m         \u001b[38;5;28;01mraise\u001b[39;00m InvalidIndexError(key)\n\u001b[0;32m-> 3812\u001b[0m     \u001b[38;5;28;01mraise\u001b[39;00m \u001b[38;5;167;01mKeyError\u001b[39;00m(key) \u001b[38;5;28;01mfrom\u001b[39;00m\u001b[38;5;250m \u001b[39m\u001b[38;5;21;01merr\u001b[39;00m\n\u001b[1;32m   3813\u001b[0m \u001b[38;5;28;01mexcept\u001b[39;00m \u001b[38;5;167;01mTypeError\u001b[39;00m:\n\u001b[1;32m   3814\u001b[0m     \u001b[38;5;66;03m# If we have a listlike key, _check_indexing_error will raise\u001b[39;00m\n\u001b[1;32m   3815\u001b[0m     \u001b[38;5;66;03m#  InvalidIndexError. Otherwise we fall through and re-raise\u001b[39;00m\n\u001b[1;32m   3816\u001b[0m     \u001b[38;5;66;03m#  the TypeError.\u001b[39;00m\n\u001b[1;32m   3817\u001b[0m     \u001b[38;5;28mself\u001b[39m\u001b[38;5;241m.\u001b[39m_check_indexing_error(key)\n",
      "\u001b[0;31mKeyError\u001b[0m: None"
     ]
    }
   ],
   "source": [
    "plp(df, y='latitude', x='longitude')"
   ]
  },
  {
   "cell_type": "code",
   "execution_count": null,
   "id": "be65dc50-4ee4-4cca-bab0-1a5e8d99c685",
   "metadata": {},
   "outputs": [],
   "source": [
    "plp(df, heatmap=True, cluster=True)"
   ]
  },
  {
   "cell_type": "code",
   "execution_count": null,
   "id": "41cbe93b-b50d-4571-bc6b-a4f079c55e28",
   "metadata": {},
   "outputs": [],
   "source": [
    "plp(df, point_color=\"speed_limit\", point_popup={\"Speed limit\": \"speed_limit\"})"
   ]
  },
  {
   "cell_type": "code",
   "execution_count": null,
   "id": "d12a40f2-10c0-4e76-8ee3-4068083ea856",
   "metadata": {},
   "outputs": [],
   "source": []
  },
  {
   "cell_type": "markdown",
   "id": "b2302dc5-fad1-40ab-8369-4e46a3f57773",
   "metadata": {},
   "source": [
    "# Read from Geospatial Files"
   ]
  },
  {
   "cell_type": "code",
   "execution_count": null,
   "id": "6a05870b-6910-4b5c-9cbd-cb85e83b6943",
   "metadata": {},
   "outputs": [],
   "source": [
    "road_gdf = gpd.read_parquet(\"data/luxembourg_roads.parquet\")\n",
    "road_gdf.head()"
   ]
  },
  {
   "cell_type": "code",
   "execution_count": null,
   "id": "b08b2336-e8fd-49d5-aad6-da8886e7d519",
   "metadata": {},
   "outputs": [],
   "source": [
    "len(road_gdf)"
   ]
  },
  {
   "cell_type": "code",
   "execution_count": null,
   "id": "7808b89c-07b1-4d4e-8abb-f3c620bd1b28",
   "metadata": {},
   "outputs": [],
   "source": [
    "road_gdf.highway.value_counts()"
   ]
  },
  {
   "cell_type": "code",
   "execution_count": null,
   "id": "a47aa31d-5432-4e96-9948-720018bb7468",
   "metadata": {},
   "outputs": [],
   "source": [
    "plp(road_gdf[road_gdf.highway == \"primary\"], line_color=\"gold\", line_weight=1)"
   ]
  },
  {
   "cell_type": "code",
   "execution_count": null,
   "id": "f3f8b408-5ef3-46e6-99d6-a4ab144c7444",
   "metadata": {},
   "outputs": [],
   "source": []
  },
  {
   "cell_type": "code",
   "execution_count": null,
   "id": "b66dd8f4-757a-43c7-bfcd-7e7363911965",
   "metadata": {},
   "outputs": [],
   "source": []
  },
  {
   "cell_type": "code",
   "execution_count": null,
   "id": "d2f3ce13-5496-4f2b-a5c0-047df05b93dd",
   "metadata": {},
   "outputs": [],
   "source": [
    "border_gdf = gpd.read_file(\"data/luxembourg_border.geojson\")\n",
    "border_gdf"
   ]
  },
  {
   "cell_type": "code",
   "execution_count": null,
   "id": "3dbadea9-734c-4524-af75-02c9169bed43",
   "metadata": {},
   "outputs": [],
   "source": [
    "plp(border_gdf)"
   ]
  },
  {
   "cell_type": "code",
   "execution_count": null,
   "id": "d2f538ff-cb87-4371-8482-ec234188a0a6",
   "metadata": {},
   "outputs": [],
   "source": [
    "plp(border_gdf, centroid=True)"
   ]
  },
  {
   "cell_type": "code",
   "execution_count": null,
   "id": "df37098b-8d77-4de9-8c14-d2f4a7c76171",
   "metadata": {},
   "outputs": [],
   "source": [
    "plp(border_gdf, h3_res=6)"
   ]
  },
  {
   "cell_type": "code",
   "execution_count": null,
   "id": "75d317f3-64b6-4967-983b-1f09187323f8",
   "metadata": {},
   "outputs": [],
   "source": [
    "plp(border_gdf, h3_res=8, compact=True)"
   ]
  },
  {
   "cell_type": "code",
   "execution_count": null,
   "id": "8ade1a69-6eeb-4da6-aa8f-0a6cf5362a6e",
   "metadata": {},
   "outputs": [],
   "source": [
    "plp(border_gdf, s2_res=10)"
   ]
  },
  {
   "cell_type": "code",
   "execution_count": null,
   "id": "db9fb967-11a3-4f04-9c2f-0a192a08de6e",
   "metadata": {},
   "outputs": [],
   "source": [
    "plp(border_gdf, s2_res=14, compact=True)"
   ]
  },
  {
   "cell_type": "code",
   "execution_count": null,
   "id": "5ebfea98-26a7-4774-97b0-a9de0c22574f",
   "metadata": {},
   "outputs": [],
   "source": [
    "plp(border_gdf, geohash_res=5)"
   ]
  },
  {
   "cell_type": "code",
   "execution_count": null,
   "id": "4baa0ee0-83fc-4aad-aed4-7f74137dff3a",
   "metadata": {},
   "outputs": [],
   "source": [
    "plp(border_gdf, geohash_res=6, compact=True)"
   ]
  },
  {
   "cell_type": "code",
   "execution_count": null,
   "id": "db926c53-19c4-471b-89f1-faa4b7730312",
   "metadata": {},
   "outputs": [],
   "source": [
    "plp(border_gdf, h3_res=6, s2_res=10, geohash_res=5)"
   ]
  },
  {
   "cell_type": "code",
   "execution_count": null,
   "id": "c1f45df5-03ae-448c-88d6-cfb10a524da4",
   "metadata": {},
   "outputs": [],
   "source": [
    "plp(border_gdf, h3_res=8, s2_res=14, geohash_res=6, compact=True)"
   ]
  },
  {
   "cell_type": "markdown",
   "id": "fdb05ed5-bc73-47b8-ba46-71696e53f105",
   "metadata": {},
   "source": [
    "# Mutiple DataFrames"
   ]
  },
  {
   "cell_type": "code",
   "execution_count": null,
   "id": "0de2de41-d172-4fd1-97da-1f4f0d67ac0c",
   "metadata": {},
   "outputs": [],
   "source": [
    "plp([border_gdf, road_gdf[road_gdf.highway == \"primary\"]], line_color=\"gold\", line_weight=1)"
   ]
  },
  {
   "cell_type": "markdown",
   "id": "420d2b2c-e772-4c91-9d7d-17b8667842a6",
   "metadata": {},
   "source": [
    "# Geospatial Cells"
   ]
  },
  {
   "cell_type": "code",
   "execution_count": null,
   "id": "0ed87351-ca4b-4a68-8325-298f0fc3c1fc",
   "metadata": {},
   "outputs": [],
   "source": [
    "lat, lon = 41.87, -87.78\n",
    "\n",
    "# Get the H3 index at resolution 6 for the central point\n",
    "h3_index = h3.latlng_to_cell(lat, lon, 6)\n",
    "\n",
    "# Get adjacent H3 cells including the central cell itself\n",
    "h3_cells = h3.grid_disk(h3_index, 1)  # k_ring with radius 1 returns the central cell + neighbors\n",
    "h3_cells"
   ]
  },
  {
   "cell_type": "code",
   "execution_count": null,
   "id": "8a6cb084-41b7-4252-b21b-22343505459c",
   "metadata": {},
   "outputs": [],
   "source": [
    "plp(cells=list(h3_cells), cell_type=\"h3\")"
   ]
  },
  {
   "cell_type": "markdown",
   "id": "354b0a22-be3f-464b-a9bd-d141bd7a14cf",
   "metadata": {},
   "source": [
    "# OSM Ways"
   ]
  },
  {
   "cell_type": "code",
   "execution_count": null,
   "id": "e69d9bdf-2bf8-4c09-80c0-3c6f010b4ca8",
   "metadata": {},
   "outputs": [],
   "source": [
    "plp(osm_ways=[335265936])"
   ]
  },
  {
   "cell_type": "code",
   "execution_count": null,
   "id": "3fc45bee-1663-47a4-bb02-5d8190833d1f",
   "metadata": {},
   "outputs": [],
   "source": [
    "plp(osm_ways=[335265936, 53820456, 1117218957], s2_res=19, compact=True)"
   ]
  },
  {
   "cell_type": "code",
   "execution_count": null,
   "id": "93757065-bb0a-447f-bdc5-c791b1db3cbe",
   "metadata": {},
   "outputs": [],
   "source": [
    "plp(osm_ways=[893074361, 666201240])"
   ]
  },
  {
   "cell_type": "code",
   "execution_count": null,
   "id": "f01df626-5d7a-4197-b77d-e8e361689247",
   "metadata": {},
   "outputs": [],
   "source": []
  }
 ],
 "metadata": {
  "kernelspec": {
   "display_name": "Python 3 (ipykernel)",
   "language": "python",
   "name": "python3"
  },
  "language_info": {
   "codemirror_mode": {
    "name": "ipython",
    "version": 3
   },
   "file_extension": ".py",
   "mimetype": "text/x-python",
   "name": "python",
   "nbconvert_exporter": "python",
   "pygments_lexer": "ipython3",
   "version": "3.12.8"
  }
 },
 "nbformat": 4,
 "nbformat_minor": 5
}
