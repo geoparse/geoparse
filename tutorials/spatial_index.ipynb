{
 "cells": [
  {
   "attachments": {},
   "cell_type": "markdown",
   "id": "3dcc4a0e-d0f5-462e-87c3-2f5849136ec0",
   "metadata": {},
   "source": [
    "<h1 align=\"center\"><img align=\"center\" src=\"https://geoparse.io/graphics/geoparse_logo.png\" alt=\"GeoParse Logo\" width=\"200\"/></h1>\n",
    "<h1 align=\"center\">GeoParse</h1>\n",
    "<h3 align=\"center\">All About Points <img src=\"https://geoparse.io/graphics/point.png\" width=\"10\"/> Lines <img src=\"https://geoparse.io/graphics/line.png\" width=\"40\"/> and Polygons <img src=\"https://geoparse.io/graphics/polygon.png\" width=\"30\"/></h3>\n",
    "\n",
    "#### [HTML](http://geoparse.io/tutorials/spatial_index.html) \n",
    "***\n",
    "\n",
    "# Geospatial Index\n",
    "\n",
    "[![Binder](https://mybinder.org/badge_logo.svg)](https://mybinder.org/v2/gh/geoparse/geoparse/main?labpath=tutorials%2F00_visualization.ipynb)\n",
    "\n",
    "This notebook demonstrates how to convert coordinates to geospatial indexes — Geohash, S2, and H3 — then convert them back to coordinates and measure the error.\n",
    "\n",
    "***"
   ]
  },
  {
   "cell_type": "code",
   "execution_count": null,
   "id": "5bb3d86c-c182-4cc5-8231-d1f801bef325",
   "metadata": {},
   "outputs": [],
   "source": [
    "import os\n",
    "import sys\n",
    "\n",
    "sys.path.append(os.path.abspath(\"../geoparse/\"))"
   ]
  },
  {
   "cell_type": "code",
   "execution_count": null,
   "id": "734b613d-c797-41e5-ab06-66e8fa71afab",
   "metadata": {},
   "outputs": [],
   "source": [
    "import warnings\n",
    "\n",
    "import geopandas as gpd\n",
    "import pandas as pd\n",
    "\n",
    "from geoparse import SpatialIndex, plp\n",
    "\n",
    "warnings.filterwarnings(\"ignore\")"
   ]
  },
  {
   "cell_type": "code",
   "execution_count": null,
   "id": "2d4496a0-5811-4245-8722-98897b170d1c",
   "metadata": {},
   "outputs": [],
   "source": [
    "# Reload all changed modules every time before executing a new line\n",
    "%load_ext autoreload\n",
    "%autoreload 2"
   ]
  },
  {
   "cell_type": "markdown",
   "id": "186c6863-3894-46af-ae19-a4a48cd96df7",
   "metadata": {
    "jp-MarkdownHeadingCollapsed": true
   },
   "source": [
    "## Points"
   ]
  },
  {
   "cell_type": "code",
   "execution_count": null,
   "id": "089f1c7e-b0d7-4ac6-8b46-aa09fd3d2f48",
   "metadata": {},
   "outputs": [],
   "source": []
  },
  {
   "cell_type": "code",
   "execution_count": null,
   "id": "6ca279fb-ba60-4855-a00a-02a2b91054dc",
   "metadata": {},
   "outputs": [],
   "source": [
    "df = pd.read_csv(\"https://geoparse.io/tutorials/data/fatal_crash_great_britain_2023.csv\")\n",
    "df.head()"
   ]
  },
  {
   "cell_type": "code",
   "execution_count": null,
   "id": "747a476e-dbc6-4f35-8d92-75f95953bbc1",
   "metadata": {},
   "outputs": [],
   "source": [
    "len(df)"
   ]
  },
  {
   "cell_type": "code",
   "execution_count": null,
   "id": "b99d19ea-6849-475d-904d-ef6374e291f9",
   "metadata": {},
   "outputs": [],
   "source": [
    "plp(df)"
   ]
  },
  {
   "cell_type": "code",
   "execution_count": null,
   "id": "7a4e6810-b0e8-44d3-87d0-34672fb2a92f",
   "metadata": {},
   "outputs": [],
   "source": [
    "df[\"h3\"] = SpatialIndex.ppoint_cell(df.latitude, df.longitude, cell_type=\"h3\", res=15)\n",
    "df.head()"
   ]
  },
  {
   "cell_type": "code",
   "execution_count": null,
   "id": "388da783-2522-40b8-ad30-c0e9069a757b",
   "metadata": {},
   "outputs": [],
   "source": [
    "df[[\"lat\", \"lon\"]] = SpatialIndex.pcell_point(df.h3, cell_type=\"h3\")\n",
    "df.head()"
   ]
  },
  {
   "cell_type": "code",
   "execution_count": null,
   "id": "0d1076a4-aa8a-4c9e-bab9-3c844d2356b7",
   "metadata": {},
   "outputs": [],
   "source": [
    "max(abs(df.latitude - df.lat)), max(abs(df.longitude - df.lon))"
   ]
  },
  {
   "cell_type": "code",
   "execution_count": null,
   "id": "236473f8-7783-4e17-9f77-37e46768eeaf",
   "metadata": {},
   "outputs": [],
   "source": []
  },
  {
   "cell_type": "code",
   "execution_count": null,
   "id": "bda661d5-47d9-4824-bda1-4cd476ba6be5",
   "metadata": {},
   "outputs": [],
   "source": []
  },
  {
   "cell_type": "code",
   "execution_count": null,
   "id": "5a870613-28db-4796-9f98-f8250f90d9be",
   "metadata": {},
   "outputs": [],
   "source": [
    "df[\"s2\"] = SpatialIndex.ppoint_cell(df.latitude, df.longitude, cell_type=\"s2\", res=30)\n",
    "df.head()"
   ]
  },
  {
   "cell_type": "code",
   "execution_count": null,
   "id": "4c5387d4-35c7-4b18-87c0-83ca0fcb549d",
   "metadata": {},
   "outputs": [],
   "source": [
    "df[[\"lat\", \"lon\"]] = SpatialIndex.pcell_point(df.s2, cell_type=\"s2\")\n",
    "df.head()"
   ]
  },
  {
   "cell_type": "code",
   "execution_count": null,
   "id": "011dcfb2-5688-470c-90b9-5de57fe84f6b",
   "metadata": {},
   "outputs": [],
   "source": [
    "max(abs(df.latitude - df.lat)), max(abs(df.longitude - df.lon))"
   ]
  },
  {
   "cell_type": "code",
   "execution_count": null,
   "id": "94a530eb-8ea1-4809-9720-8314e1db7680",
   "metadata": {},
   "outputs": [],
   "source": []
  },
  {
   "cell_type": "code",
   "execution_count": null,
   "id": "09d543e5-dd3d-48c0-8f6f-0771ec14c1e9",
   "metadata": {},
   "outputs": [],
   "source": []
  },
  {
   "cell_type": "code",
   "execution_count": null,
   "id": "930687f0-b55b-45c6-8022-88307079b3cf",
   "metadata": {},
   "outputs": [],
   "source": [
    "df[\"geohash\"] = SpatialIndex.ppoint_cell(df.latitude, df.longitude, cell_type=\"geohash\", res=10)\n",
    "df.head()"
   ]
  },
  {
   "cell_type": "code",
   "execution_count": null,
   "id": "a0a8775c-a69e-434b-a8e3-72d2fc3fab25",
   "metadata": {},
   "outputs": [],
   "source": [
    "df[[\"lat\", \"lon\"]] = SpatialIndex.pcell_point(df.geohash, cell_type=\"geohash\")\n",
    "df.head()"
   ]
  },
  {
   "cell_type": "code",
   "execution_count": null,
   "id": "35dde717-c3ab-4df9-b57f-fdf07aa72135",
   "metadata": {},
   "outputs": [],
   "source": [
    "max(abs(df.latitude - df.lat)), max(abs(df.longitude - df.lon))"
   ]
  },
  {
   "cell_type": "code",
   "execution_count": null,
   "id": "a0f842c2-30bd-4ff4-8f2a-584c208360c8",
   "metadata": {},
   "outputs": [],
   "source": []
  },
  {
   "cell_type": "markdown",
   "id": "42a21f3f-837a-44d7-92b0-e1699f97ac6b",
   "metadata": {},
   "source": [
    "# Polygons"
   ]
  },
  {
   "cell_type": "code",
   "execution_count": null,
   "id": "de77fd50-bdba-4351-9be1-94a6405a9661",
   "metadata": {},
   "outputs": [],
   "source": [
    "gdf = gpd.read_file(\"https://geoparse.io/tutorials/data/london.geojson\")\n",
    "gdf"
   ]
  },
  {
   "cell_type": "code",
   "execution_count": null,
   "id": "37dfcb5c-77d2-48ae-8c79-c422b0cfbcd6",
   "metadata": {},
   "outputs": [],
   "source": [
    "plp(gdf)"
   ]
  },
  {
   "cell_type": "markdown",
   "id": "69413cbe-521a-420e-8018-adb6eb22942b",
   "metadata": {},
   "source": [
    "`plp` can visualize the cell layer over the polygon, but if you need the list of cells, the [ppoly_cell](https://geoparse.io/geoparse.html#geoparse.geoparse.SpatialIndex.ppoly_cell) (parallel polygon to cell converter) method from the `SpatialIndex` class takes a GeoDataFrame, cell type (h3, s2 or geohash) and resolution, and returns a tuple containing the list of cells and their counts."
   ]
  },
  {
   "cell_type": "code",
   "execution_count": null,
   "id": "d920eb3f-5ed6-45c4-9c06-c42331595792",
   "metadata": {},
   "outputs": [],
   "source": [
    "plp(gdf, h3_res=7)"
   ]
  },
  {
   "cell_type": "code",
   "execution_count": null,
   "id": "ad780260-4ba2-46b6-bc02-b6554ff6f051",
   "metadata": {},
   "outputs": [],
   "source": [
    "h3_list, h3_counts = SpatialIndex.ppoly_cell(gdf, cell_type=\"h3\", res=7)"
   ]
  },
  {
   "cell_type": "code",
   "execution_count": null,
   "id": "ee77ab91-9270-4ce0-a4cf-1eeaafff10bf",
   "metadata": {},
   "outputs": [],
   "source": [
    "h3_list[:10]"
   ]
  },
  {
   "cell_type": "code",
   "execution_count": null,
   "id": "4eecc5f4-192c-47e2-9b42-00ff68fa787e",
   "metadata": {},
   "outputs": [],
   "source": [
    "h3_counts"
   ]
  },
  {
   "cell_type": "code",
   "execution_count": null,
   "id": "4e6fe843-9b71-4094-af0f-42c1c2b08f5a",
   "metadata": {},
   "outputs": [],
   "source": []
  },
  {
   "cell_type": "code",
   "execution_count": null,
   "id": "72984d5c-780e-4cae-8244-ab6ad066ef5b",
   "metadata": {},
   "outputs": [],
   "source": []
  },
  {
   "cell_type": "markdown",
   "id": "52d5e300-4e57-4356-87f7-73f40bfa98dc",
   "metadata": {},
   "source": [
    "When storing or transferring geospatial cell data, it's often more efficient to compact the cells, meaning you merge adjacent cells into their parent cells at a lower resolution. This reduces the total number of cells without losing spatial detail. "
   ]
  },
  {
   "cell_type": "code",
   "execution_count": null,
   "id": "a9abc029-05bd-4ed2-8e14-6f2697d4d1a5",
   "metadata": {},
   "outputs": [],
   "source": [
    "plp(gdf, cell_type=\"s2\", s2_res=16, compact=True)"
   ]
  },
  {
   "cell_type": "markdown",
   "id": "c097e753-37fc-490e-b147-bae6c5ce0b0f",
   "metadata": {},
   "source": [
    "If `compact=True` is set, `ppoly_cell` returns a list of compacted cells, as shown in the figure above. However, it still reports the count of the original un-compacted cells. This means the reported count may be higher than the actual number of cells in the final (compacted) list. "
   ]
  },
  {
   "cell_type": "code",
   "execution_count": null,
   "id": "7ae401a9-ced5-4d0d-bd87-e3b88782eb0f",
   "metadata": {},
   "outputs": [],
   "source": [
    "s2_list, s2_counts = SpatialIndex.ppoly_cell(gdf, cell_type=\"s2\", res=16, compact=True)\n",
    "s2_counts"
   ]
  },
  {
   "cell_type": "code",
   "execution_count": null,
   "id": "9aa8dcd1-05e7-4fe2-a1af-d43d9dd1d8b3",
   "metadata": {
    "scrolled": true
   },
   "outputs": [],
   "source": [
    "len(s2_list)"
   ]
  },
  {
   "cell_type": "code",
   "execution_count": null,
   "id": "f0c12e51-e511-4aac-ace2-1eba9b7a041e",
   "metadata": {},
   "outputs": [],
   "source": []
  },
  {
   "cell_type": "markdown",
   "id": "d4a39903-5b24-4cb7-a7c0-629e9bae6864",
   "metadata": {},
   "source": [
    "If `verbose=True`, `ppoly_cell` prints progress updates and timing information to the console."
   ]
  },
  {
   "cell_type": "code",
   "execution_count": null,
   "id": "fafa9a44-3112-44b2-be90-417ebd22c03b",
   "metadata": {},
   "outputs": [],
   "source": [
    "s2_list, s2_counts = SpatialIndex.ppoly_cell(gdf, cell_type=\"s2\", res=18, compact=True, verbose=True)"
   ]
  },
  {
   "cell_type": "markdown",
   "id": "e631f68a-6774-4f4d-8c48-375cfe1d4cb7",
   "metadata": {},
   "source": [
    "the `ppolycell` method can directly export cells to files. By default, `dump` is set to `None`, but if you provide a path (e.g., `dump='path/to/dir'`), it writes the cell IDs to multiple files in parallel."
   ]
  },
  {
   "cell_type": "code",
   "execution_count": null,
   "id": "d79f1744-3397-409d-9880-5795073ca16d",
   "metadata": {},
   "outputs": [],
   "source": [
    "SpatialIndex.ppoly_cell(gdf, cell_type=\"h3\", res=11, verbose=True, dump=\"./london\")"
   ]
  },
  {
   "cell_type": "code",
   "execution_count": null,
   "id": "1d31a2bf-bc28-4e39-88df-5628cd00554a",
   "metadata": {},
   "outputs": [],
   "source": []
  }
 ],
 "metadata": {
  "kernelspec": {
   "display_name": "Python 3 (ipykernel)",
   "language": "python",
   "name": "python3"
  },
  "language_info": {
   "codemirror_mode": {
    "name": "ipython",
    "version": 3
   },
   "file_extension": ".py",
   "mimetype": "text/x-python",
   "name": "python",
   "nbconvert_exporter": "python",
   "pygments_lexer": "ipython3",
   "version": "3.12.0"
  }
 },
 "nbformat": 4,
 "nbformat_minor": 5
}
