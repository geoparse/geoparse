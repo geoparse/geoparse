{
 "cells": [
  {
   "attachments": {},
   "cell_type": "markdown",
   "id": "7b699c0a-0c20-45ee-9042-ebed104af979",
   "metadata": {},
   "source": [
    "<h1 align=\"center\"><img align=\"center\" src=\"https://geoparse.io/graphics/geoparse_logo.png\" alt=\"GeoParse Logo\" width=\"200\"/></h1>\n",
    "<h1 align=\"center\">GeoParse</h1>\n",
    "<h3 align=\"center\">All About Points <img src=\"https://geoparse.io/graphics/point.png\" width=\"10\"/> Lines <img src=\"https://geoparse.io/graphics/line.png\" width=\"40\"/> and Polygons <img src=\"https://geoparse.io/graphics/polygon.png\" width=\"30\"/></h3>\n",
    "\n",
    "\n",
    "#### [HTML](http://geoparse.io/tutorials/trajectory.html) \n",
    "***\n",
    "\n",
    "# Speedings\n",
    "\n",
    "[![Binder](https://mybinder.org/badge_logo.svg)](https://mybinder.org/v2/gh/geoparse/geoparse/main?labpath=tutorials%2F00_visualization.ipynb)\n",
    "\n",
    "This notebook demonstrates how to visualize speeding events along a trajectory.\n",
    "\n",
    "***"
   ]
  },
  {
   "cell_type": "code",
   "execution_count": null,
   "id": "1fc5ae67-9c71-4c77-b654-cdb1d5f0d801",
   "metadata": {},
   "outputs": [],
   "source": [
    "import os\n",
    "import sys\n",
    "\n",
    "sys.path.append(os.path.abspath(\"../geoparse/\"))\n",
    "import warnings\n",
    "\n",
    "import pandas as pd\n",
    "\n",
    "from geoparse import plp\n",
    "\n",
    "warnings.filterwarnings(\"ignore\")"
   ]
  },
  {
   "cell_type": "code",
   "execution_count": null,
   "id": "2d4496a0-5811-4245-8722-98897b170d1c",
   "metadata": {},
   "outputs": [],
   "source": [
    "# Reload all changed modules every time before executing a new line\n",
    "%load_ext autoreload\n",
    "%autoreload 2"
   ]
  },
  {
   "cell_type": "code",
   "execution_count": null,
   "id": "818b15a8-14ef-401f-b04c-c294ae81c1f9",
   "metadata": {},
   "outputs": [],
   "source": [
    "df = pd.read_csv(\"https://geoparse.io/tutorials/data/trajectory.csv\")\n",
    "df.head()"
   ]
  },
  {
   "cell_type": "code",
   "execution_count": null,
   "id": "00a337fc-d917-4825-9f55-be14d52ac14d",
   "metadata": {},
   "outputs": [],
   "source": [
    "len(df)"
   ]
  },
  {
   "cell_type": "code",
   "execution_count": null,
   "id": "b99d19ea-6849-475d-904d-ef6374e291f9",
   "metadata": {},
   "outputs": [],
   "source": [
    "plp(df)"
   ]
  },
  {
   "cell_type": "code",
   "execution_count": null,
   "id": "d460e1a4-eeb3-4ca7-965f-bb16bfdc1f07",
   "metadata": {},
   "outputs": [],
   "source": [
    "plp(df, antpath=True)"
   ]
  },
  {
   "cell_type": "code",
   "execution_count": null,
   "id": "8c170d6d-48ec-484f-8298-7f8cf7e694bb",
   "metadata": {},
   "outputs": [],
   "source": [
    "plp(df, point_popup={\"Time\": \"dt\", \"Speed\": \"speed\", \"Speed Limit\": \"speedlimit\"})"
   ]
  },
  {
   "cell_type": "code",
   "execution_count": null,
   "id": "189ef05c-fc60-4ea2-a75c-19f20590d342",
   "metadata": {},
   "outputs": [],
   "source": [
    "plp(df, point_color=\"speed\", point_popup={\"Speed\": \"speed\", \"Speed Limit\": \"speedlimit\"})"
   ]
  },
  {
   "cell_type": "code",
   "execution_count": null,
   "id": "f01df626-5d7a-4197-b77d-e8e361689247",
   "metadata": {},
   "outputs": [],
   "source": []
  }
 ],
 "metadata": {
  "kernelspec": {
   "display_name": "Python 3 (ipykernel)",
   "language": "python",
   "name": "python3"
  },
  "language_info": {
   "codemirror_mode": {
    "name": "ipython",
    "version": 3
   },
   "file_extension": ".py",
   "mimetype": "text/x-python",
   "name": "python",
   "nbconvert_exporter": "python",
   "pygments_lexer": "ipython3",
   "version": "3.12.0"
  }
 },
 "nbformat": 4,
 "nbformat_minor": 5
}
